{
 "cells": [
  {
   "cell_type": "code",
   "execution_count": 1,
   "metadata": {},
   "outputs": [],
   "source": [
    "import requests\n",
    "import os\n",
    "import json"
   ]
  },
  {
   "cell_type": "code",
   "execution_count": 2,
   "metadata": {},
   "outputs": [],
   "source": [
    "\n",
    "documents_dir = 'documents_uploaded'\n",
    "\n",
    "files_to_upload = []\n",
    "for file_name in os.listdir(documents_dir):\n",
    "    if file_name.endswith('.pdf') or file_name.endswith('.docx'):\n",
    "        file_path = os.path.join(documents_dir, file_name)\n",
    "        # Read the file content and close it immediately\n",
    "        with open(file_path, \"rb\") as f:\n",
    "            file_content = f.read()\n",
    "            files_to_upload.append((\"files\", (file_name, file_content)))\n",
    "\n"
   ]
  },
  {
   "cell_type": "code",
   "execution_count": 4,
   "metadata": {},
   "outputs": [
    {
     "name": "stdout",
     "output_type": "stream",
     "text": [
      "{'insights': \"Experiencing dizziness after taking your medication for stable angina pectoris can be concerning, and there are several potential reasons why this might be happening. Since you are taking Aspirin and Atorvastatin, but not Metoprolol (which is also commonly prescribed for angina), the dizziness is likely not directly related to Metoprolol, a beta-blocker that can sometimes cause dizziness due to its effect on lowering blood pressure and heart rate.\\n\\nHere are some other possible causes to consider:\\n\\n1.  Low Blood Pressure (Hypotension): Even though your blood pressure was previously high, it could have dropped too low. This can happen due to other medications you might be taking for hypertension or changes in your lifestyle. Please monitor your blood pressure and consult your doctor if it is consistently low.\\n\\n2.  Low Blood Sugar (Hypoglycemia): Since you have diabetes, dizziness could be a sign of low blood sugar, especially if you are taking medications to manage your blood sugar levels. Check your blood sugar and take appropriate action based on your doctor's recommendations.\\n\\n3.  Dehydration: Not drinking enough fluids can lead to dizziness. Make sure you are staying well-hydrated throughout the day.\\n\\n4.  Medication Side Effects: Although less common, Aspirin and Atorvastatin can sometimes cause dizziness as a side effect. It's worth discussing this possibility with your doctor.\\n\\n5.  Underlying Cardiac Issues: Even with stable angina, changes in your condition or other heart-related issues could contribute to dizziness. It's important to rule out any new cardiac problems.\\n\\n6.  Anxiety: Given your recent mental health visit and reported anxiety, it's possible that the dizziness is related to anxiety symptoms. Discuss this with your healthcare provider.\\n\\n7. Aspirin Hypersensitivity: You have a known aspirin hypersensitivity. Although not listed as a common symptom, it could be related. Please consult your doctor immediately.\\n\\nGiven these possibilities, it's important to consult with your doctor as soon as possible to determine the exact cause of your dizziness and receive appropriate medical advice. They may want to review your medications, conduct further tests, or make adjustments to your treatment plan. Do not stop taking any medication without consulting your doctor first.\"}\n"
     ]
    }
   ],
   "source": [
    "url = \"http://127.0.0.1:8000/process-patient-data/\"\n",
    "\n",
    "payload = {\n",
    "    \"age\": 45,\n",
    "    \"sex\": \"Male\",\n",
    "    \"height\": 175,\n",
    "    \"weight\": 85,\n",
    "    \"allergies\": \"Shellfish, Dust\",\n",
    "    \"preexisting_conditions\": \"Diabetes, Hypertension\",\n",
    "    \"medications\": \"Aspirin, Atorvastatin\",\n",
    "    \"family_history\": \"Heart Disease\",\n",
    "    \"question\": \"I took my prescribed medication for Stable Angina Pectoris and now I feel dizzy. What could be wrong?\"\n",
    "}\n",
    "\n",
    "\n",
    "\n",
    "\n",
    "response = requests.post(url, data=payload, files=files_to_upload)\n",
    "\n",
    "print(response.json())"
   ]
  },
  {
   "cell_type": "code",
   "execution_count": null,
   "metadata": {},
   "outputs": [],
   "source": []
  },
  {
   "cell_type": "code",
   "execution_count": null,
   "metadata": {},
   "outputs": [],
   "source": []
  }
 ],
 "metadata": {
  "kernelspec": {
   "display_name": "rapids-24.12",
   "language": "python",
   "name": "python3"
  },
  "language_info": {
   "codemirror_mode": {
    "name": "ipython",
    "version": 3
   },
   "file_extension": ".py",
   "mimetype": "text/x-python",
   "name": "python",
   "nbconvert_exporter": "python",
   "pygments_lexer": "ipython3",
   "version": "3.12.8"
  }
 },
 "nbformat": 4,
 "nbformat_minor": 2
}
